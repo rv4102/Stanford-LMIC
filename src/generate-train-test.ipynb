{
 "cells": [
  {
   "cell_type": "code",
   "execution_count": null,
   "metadata": {},
   "outputs": [],
   "source": [
    "import dask.dataframe as dd\n",
    "from dask.diagnostics import ProgressBar\n",
    "from sklearn.preprocessing import OneHotEncoder\n",
    "from sklearn.compose import make_column_transformer\n",
    "import gc\n",
    "import pandas as pd"
   ]
  },
  {
   "cell_type": "code",
   "execution_count": null,
   "metadata": {},
   "outputs": [],
   "source": [
    "main_path = '../data/main_data/'\n",
    "other_path = '../data/other_data/'\n",
    "sub_path = '../data/sample submission.csv'\n",
    "nulls_path = '../data/nulls.joblib'\n",
    "label_path = '../data/training_label.csv'\n",
    "pred_cols = [\"Mean_BMI\",\"Median_BMI\",\"Unmet_Need_Rate\",\n",
    "             \"Under5_Mortality_Rate\",\"Skilled_Birth_Attendant_Rate\",\"Stunted_Rate\"]"
   ]
  },
  {
   "cell_type": "code",
   "execution_count": null,
   "metadata": {},
   "outputs": [],
   "source": [
    "df = dd.read_parquet(main_path)"
   ]
  },
  {
   "cell_type": "code",
   "execution_count": null,
   "metadata": {},
   "outputs": [],
   "source": [
    "with ProgressBar():\n",
    "    nulls = df.isnull().sum().compute()"
   ]
  },
  {
   "cell_type": "code",
   "execution_count": null,
   "metadata": {},
   "outputs": [],
   "source": [
    "df = df.drop(nulls[nulls>0].index, axis=1)\n",
    "label = dd.read_csv(label_path, usecols=pred_cols+['DHSID'], dtype={'Stunted_Rate': 'float64'}).set_index('DHSID')"
   ]
  },
  {
   "cell_type": "code",
   "execution_count": null,
   "metadata": {},
   "outputs": [],
   "source": [
    "with ProgressBar():\n",
    "    train = label.join(df, how='left')\n",
    "    train = train.dropna()\n",
    "    train = train.compute()\n",
    "train"
   ]
  },
  {
   "cell_type": "code",
   "execution_count": null,
   "metadata": {},
   "outputs": [],
   "source": [
    "other_data = pd.read_parquet(other_path)\n",
    "transformer = make_column_transformer(\n",
    "    (OneHotEncoder(), ['DHSCC', 'DHSREGNA', 'URBAN_RURA']), remainder='passthrough')\n",
    "transformed = transformer.fit_transform(other_data)\n",
    "transformed_df = pd.DataFrame(transformed.todense(), columns=transformer.get_feature_names_out())\n",
    "transformed_df.index = other_data.index"
   ]
  },
  {
   "cell_type": "code",
   "execution_count": null,
   "metadata": {},
   "outputs": [],
   "source": [
    "train = train.join(transformed_df, how='left')\n",
    "train = train[~train.index.duplicated(keep='first')]\n",
    "train.to_parquet('../data/train.parquet.gzip')"
   ]
  },
  {
   "cell_type": "code",
   "execution_count": null,
   "metadata": {},
   "outputs": [],
   "source": [
    "# Free up memory\n",
    "del(train)\n",
    "gc.collect()"
   ]
  },
  {
   "cell_type": "code",
   "execution_count": null,
   "metadata": {},
   "outputs": [],
   "source": [
    "sub = dd.read_csv(sub_path).set_index('DHSID')\n",
    "test = sub.join(df, how='left')\n",
    "with ProgressBar():\n",
    "    test = test.compute()\n",
    "test"
   ]
  },
  {
   "cell_type": "code",
   "execution_count": null,
   "metadata": {},
   "outputs": [],
   "source": [
    "test = test.join(transformed_df, how='left')\n",
    "test = test.drop(pred_cols, axis=1)\n",
    "test = test[~test.index.duplicated(keep='first')]\n",
    "test.to_parquet('../data/test.parquet.gzip')"
   ]
  }
 ],
 "metadata": {
  "kernelspec": {
   "display_name": "ml2",
   "language": "python",
   "name": "python3"
  },
  "language_info": {
   "codemirror_mode": {
    "name": "ipython",
    "version": 3
   },
   "file_extension": ".py",
   "mimetype": "text/x-python",
   "name": "python",
   "nbconvert_exporter": "python",
   "pygments_lexer": "ipython3",
   "version": "3.10.9"
  },
  "orig_nbformat": 4
 },
 "nbformat": 4,
 "nbformat_minor": 2
}
