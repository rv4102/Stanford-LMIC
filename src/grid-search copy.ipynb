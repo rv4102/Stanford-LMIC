{
 "cells": [
  {
   "cell_type": "code",
   "execution_count": null,
   "id": "a28523e3",
   "metadata": {
    "_cell_guid": "b1076dfc-b9ad-4769-8c92-a6c4dae69d19",
    "_uuid": "8f2839f25d086af736a60e9eeb907d3b93b6e0e5",
    "execution": {
     "iopub.execute_input": "2023-07-14T19:59:30.496799Z",
     "iopub.status.busy": "2023-07-14T19:59:30.496428Z",
     "iopub.status.idle": "2023-07-14T19:59:32.365285Z",
     "shell.execute_reply": "2023-07-14T19:59:32.363579Z"
    },
    "papermill": {
     "duration": 1.877866,
     "end_time": "2023-07-14T19:59:32.368151",
     "exception": false,
     "start_time": "2023-07-14T19:59:30.490285",
     "status": "completed"
    },
    "tags": []
   },
   "outputs": [],
   "source": [
    "from sklearn.model_selection import KFold\n",
    "from joblib import dump, load\n",
    "from sklearn.metrics import mean_squared_error\n",
    "import numpy as np\n",
    "import pandas as pd\n",
    "from sklearn.ensemble import RandomForestRegressor"
   ]
  },
  {
   "cell_type": "code",
   "execution_count": null,
   "id": "16e3813a",
   "metadata": {
    "execution": {
     "iopub.execute_input": "2023-07-14T19:59:32.378000Z",
     "iopub.status.busy": "2023-07-14T19:59:32.377557Z",
     "iopub.status.idle": "2023-07-14T19:59:32.382771Z",
     "shell.execute_reply": "2023-07-14T19:59:32.381587Z"
    },
    "papermill": {
     "duration": 0.013132,
     "end_time": "2023-07-14T19:59:32.385397",
     "exception": false,
     "start_time": "2023-07-14T19:59:32.372265",
     "status": "completed"
    },
    "tags": []
   },
   "outputs": [],
   "source": [
    "pred_cols = [\"Mean_BMI\",\"Median_BMI\",\"Unmet_Need_Rate\",\"Under5_Mortality_Rate\",\"Skilled_Birth_Attendant_Rate\",\"Stunted_Rate\"]\n",
    "!wget -O \"test.parquet.gzip\" \"https://iitkgpacin-my.sharepoint.com/:u:/g/personal/rushilv_kgpian_iitkgp_ac_in/EXPYjAeWagtJkXj5Jq16m0MBjYsOb9GGXW2ZFMBwh0J9ZA?download=1\"\n",
    "!wget -O \"train.parquet.gzip\" \"https://iitkgpacin-my.sharepoint.com/:u:/g/personal/rushilv_kgpian_iitkgp_ac_in/EbSDQP8WT9RIjIisg7PEa9UB7tuSf43J2_h3W0KgxK47ug?download=1\"\n",
    "!wget -O \"low_imp_features.joblib\" \"https://iitkgpacin-my.sharepoint.com/:u:/g/personal/rushilv_kgpian_iitkgp_ac_in/EahAFwUUFahChNa0WX6C8-IBMgV0jy51QtCIAaGE3rdyXQ?download=1\""
   ]
  },
  {
   "cell_type": "code",
   "execution_count": null,
   "id": "866b657c",
   "metadata": {
    "execution": {
     "iopub.execute_input": "2023-07-14T19:59:32.394948Z",
     "iopub.status.busy": "2023-07-14T19:59:32.394545Z",
     "iopub.status.idle": "2023-07-14T19:59:32.399732Z",
     "shell.execute_reply": "2023-07-14T19:59:32.398539Z"
    },
    "papermill": {
     "duration": 0.012391,
     "end_time": "2023-07-14T19:59:32.401750",
     "exception": false,
     "start_time": "2023-07-14T19:59:32.389359",
     "status": "completed"
    },
    "tags": []
   },
   "outputs": [],
   "source": [
    "def mcrmse(y_true, y_pred):\n",
    "    mse = mean_squared_error(y_true, y_pred)\n",
    "    rmse = np.sqrt(mse)\n",
    "    return np.average(rmse)"
   ]
  },
  {
   "cell_type": "code",
   "execution_count": null,
   "id": "1ac5f4f7",
   "metadata": {
    "execution": {
     "iopub.execute_input": "2023-07-14T19:59:32.411649Z",
     "iopub.status.busy": "2023-07-14T19:59:32.410876Z",
     "iopub.status.idle": "2023-07-14T19:59:49.385287Z",
     "shell.execute_reply": "2023-07-14T19:59:49.384148Z"
    },
    "papermill": {
     "duration": 16.982402,
     "end_time": "2023-07-14T19:59:49.388023",
     "exception": false,
     "start_time": "2023-07-14T19:59:32.405621",
     "status": "completed"
    },
    "tags": []
   },
   "outputs": [],
   "source": [
    "train = pd.read_parquet('./train.parquet.gzip')\n",
    "train = train[~train.index.duplicated(keep='first')]\n",
    "X = train.drop(pred_cols, axis=1)\n",
    "y = train[pred_cols]"
   ]
  },
  {
   "cell_type": "code",
   "execution_count": null,
   "id": "0d4e2285",
   "metadata": {
    "execution": {
     "iopub.execute_input": "2023-07-14T19:59:49.398243Z",
     "iopub.status.busy": "2023-07-14T19:59:49.397226Z",
     "iopub.status.idle": "2023-07-14T19:59:49.569047Z",
     "shell.execute_reply": "2023-07-14T19:59:49.567410Z"
    },
    "papermill": {
     "duration": 0.180759,
     "end_time": "2023-07-14T19:59:49.572888",
     "exception": false,
     "start_time": "2023-07-14T19:59:49.392129",
     "status": "completed"
    },
    "tags": []
   },
   "outputs": [],
   "source": [
    "import gc\n",
    "del(train)\n",
    "gc.collect()"
   ]
  },
  {
   "cell_type": "code",
   "execution_count": null,
   "id": "83b7011c",
   "metadata": {
    "execution": {
     "iopub.execute_input": "2023-07-14T19:59:49.585380Z",
     "iopub.status.busy": "2023-07-14T19:59:49.584995Z",
     "iopub.status.idle": "2023-07-14T19:59:49.708994Z",
     "shell.execute_reply": "2023-07-14T19:59:49.707836Z"
    },
    "papermill": {
     "duration": 0.132823,
     "end_time": "2023-07-14T19:59:49.711466",
     "exception": false,
     "start_time": "2023-07-14T19:59:49.578643",
     "status": "completed"
    },
    "tags": []
   },
   "outputs": [],
   "source": [
    "low_imp_features = load('./low_imp_features.joblib')\n",
    "# drop the features with low importance and return a new dataframe\n",
    "X_new = X.drop(columns=low_imp_features)\n",
    "X_new"
   ]
  },
  {
   "cell_type": "code",
   "execution_count": null,
   "id": "0ed2ba1d",
   "metadata": {
    "execution": {
     "iopub.execute_input": "2023-07-14T19:55:15.916264Z",
     "iopub.status.busy": "2023-07-14T19:55:15.915181Z",
     "iopub.status.idle": "2023-07-14T19:59:08.860561Z",
     "shell.execute_reply": "2023-07-14T19:59:08.858885Z",
     "shell.execute_reply.started": "2023-07-14T19:55:15.916224Z"
    },
    "papermill": {
     "duration": null,
     "end_time": null,
     "exception": false,
     "start_time": "2023-07-14T19:59:49.734186",
     "status": "running"
    },
    "tags": []
   },
   "outputs": [],
   "source": [
    "model = RandomForestRegressor(random_state=42, n_jobs=-1)\n",
    "\n",
    "parameters = {\n",
    "    \"n_estimators\":[8000, 8500, 9000],\n",
    "    \"max_depth\": [20,22,25],\n",
    "    \"max_features\" : [0.45,0.55,0.6]\n",
    "}\n",
    "\n",
    "curr_best_score = 100000.0\n",
    "best_params = {}\n",
    "# iterate over all combinations of parameters\n",
    "for v1 in parameters['max_depth']:\n",
    "    for v2 in parameters['n_estimators']:\n",
    "        for v3 in parameters['max_features']:\n",
    "            model.set_params(max_depth=v1, n_estimators=v2, max_features=v3)\n",
    "            scores = []\n",
    "            kf = KFold(n_splits=5, shuffle=True, random_state=42)\n",
    "            for train_index, test_index in kf.split(X_new):\n",
    "                X_train, X_test = X_new.iloc[train_index], X_new.iloc[test_index]\n",
    "                y_train, y_test = y.iloc[train_index], y.iloc[test_index]\n",
    "                model.fit(X_train, y_train)\n",
    "                y_pred = model.predict(X_test)\n",
    "                scores.append(mcrmse(y_test, y_pred))\n",
    "            print(\"max_depth: {}, n_estimators: {}, max_features: {}, mcrmse: {}\".format(v1, v2, v3, np.average(scores)))\n",
    "            if(np.average(scores) < curr_best_score):\n",
    "                curr_best_score = np.average(scores)\n",
    "                best_params = {\"max_depth\":v1, \"n_estimators\":v2, \"max_features\":v3}"
   ]
  },
  {
   "cell_type": "code",
   "execution_count": null,
   "id": "45a9f976",
   "metadata": {
    "execution": {
     "iopub.status.busy": "2023-07-14T19:54:53.147332Z",
     "iopub.status.idle": "2023-07-14T19:54:53.147797Z",
     "shell.execute_reply": "2023-07-14T19:54:53.147610Z",
     "shell.execute_reply.started": "2023-07-14T19:54:53.147587Z"
    },
    "papermill": {
     "duration": null,
     "end_time": null,
     "exception": null,
     "start_time": null,
     "status": "pending"
    },
    "tags": []
   },
   "outputs": [],
   "source": [
    "# dump(model, '/kaggle/input/mchmlmic-new/test_rf_new.joblib')"
   ]
  },
  {
   "cell_type": "code",
   "execution_count": null,
   "id": "45f07142",
   "metadata": {},
   "outputs": [],
   "source": [
    "model = RandomForestRegressor(best_params, random_state=42, n_jobs=-1)\n",
    "model.fit(X_new, y)"
   ]
  },
  {
   "cell_type": "code",
   "execution_count": null,
   "id": "caf03121",
   "metadata": {
    "execution": {
     "iopub.status.busy": "2023-07-14T19:54:53.149256Z",
     "iopub.status.idle": "2023-07-14T19:54:53.149766Z",
     "shell.execute_reply": "2023-07-14T19:54:53.149582Z",
     "shell.execute_reply.started": "2023-07-14T19:54:53.149560Z"
    },
    "papermill": {
     "duration": null,
     "end_time": null,
     "exception": null,
     "start_time": null,
     "status": "pending"
    },
    "tags": []
   },
   "outputs": [],
   "source": [
    "test = pd.read_parquet('./test.parquet.gzip')\n",
    "test = test.drop(columns=low_imp_features)\n",
    "test"
   ]
  },
  {
   "cell_type": "code",
   "execution_count": null,
   "id": "aa7f1055",
   "metadata": {
    "execution": {
     "iopub.status.busy": "2023-07-14T19:54:53.151369Z",
     "iopub.status.idle": "2023-07-14T19:54:53.151916Z",
     "shell.execute_reply": "2023-07-14T19:54:53.151679Z",
     "shell.execute_reply.started": "2023-07-14T19:54:53.151644Z"
    },
    "papermill": {
     "duration": null,
     "end_time": null,
     "exception": null,
     "start_time": null,
     "status": "pending"
    },
    "tags": []
   },
   "outputs": [],
   "source": [
    "y_pred = model.predict(test)"
   ]
  },
  {
   "cell_type": "code",
   "execution_count": null,
   "id": "35cb43a9",
   "metadata": {
    "execution": {
     "iopub.status.busy": "2023-07-14T19:54:53.153336Z",
     "iopub.status.idle": "2023-07-14T19:54:53.153882Z",
     "shell.execute_reply": "2023-07-14T19:54:53.153632Z",
     "shell.execute_reply.started": "2023-07-14T19:54:53.153607Z"
    },
    "papermill": {
     "duration": null,
     "end_time": null,
     "exception": null,
     "start_time": null,
     "status": "pending"
    },
    "tags": []
   },
   "outputs": [],
   "source": [
    "out = pd.DataFrame(y_pred, columns=pred_cols)\n",
    "out['DHSID'] = test.index\n",
    "out = out[['DHSID'] + pred_cols]\n",
    "out.to_csv('./new_test.csv', index=False)"
   ]
  },
  {
   "cell_type": "code",
   "execution_count": null,
   "id": "b8f377cd",
   "metadata": {
    "execution": {
     "iopub.status.busy": "2023-07-14T19:54:53.155318Z",
     "iopub.status.idle": "2023-07-14T19:54:53.155863Z",
     "shell.execute_reply": "2023-07-14T19:54:53.155610Z",
     "shell.execute_reply.started": "2023-07-14T19:54:53.155585Z"
    },
    "papermill": {
     "duration": null,
     "end_time": null,
     "exception": null,
     "start_time": null,
     "status": "pending"
    },
    "tags": []
   },
   "outputs": [],
   "source": [
    "out"
   ]
  }
 ],
 "metadata": {
  "kernelspec": {
   "display_name": "Python 3",
   "language": "python",
   "name": "python3"
  },
  "language_info": {
   "codemirror_mode": {
    "name": "ipython",
    "version": 3
   },
   "file_extension": ".py",
   "mimetype": "text/x-python",
   "name": "python",
   "nbconvert_exporter": "python",
   "pygments_lexer": "ipython3",
   "version": "3.10.9"
  },
  "papermill": {
   "default_parameters": {},
   "duration": null,
   "end_time": null,
   "environment_variables": {},
   "exception": null,
   "input_path": "__notebook__.ipynb",
   "output_path": "__notebook__.ipynb",
   "parameters": {},
   "start_time": "2023-07-14T19:59:20.447319",
   "version": "2.4.0"
  }
 },
 "nbformat": 4,
 "nbformat_minor": 5
}
